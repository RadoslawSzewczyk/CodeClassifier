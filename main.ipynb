{
 "cells": [
  {
   "cell_type": "code",
   "execution_count": null,
   "id": "501d4360",
   "metadata": {},
   "outputs": [],
   "source": [
    "#run vscode server\n",
    "\n",
    "!pip install colabcode\n",
    "from colabcode import ColabCode\n",
    "ColabCode(port=10000)\n"
   ]
  }
 ],
 "metadata": {
  "kernelspec": {
   "display_name": "Python 3",
   "language": "python",
   "name": "python3"
  },
  "language_info": {
   "name": "python",
   "version": "3.12.3"
  }
 },
 "nbformat": 4,
 "nbformat_minor": 5
}
